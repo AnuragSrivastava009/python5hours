{
 "cells": [
  {
   "cell_type": "code",
   "execution_count": 2,
   "metadata": {},
   "outputs": [
    {
     "name": "stdout",
     "output_type": "stream",
     "text": [
      "enter a number:30\n",
      "a is greater than 10\n"
     ]
    }
   ],
   "source": [
    "#controlflow\n",
    "#if else,if ,nested if statement\n",
    "a=int(input(\"enter a number:\"))\n",
    "if a>10:\n",
    "    print(\"a is greater than 10\")"
   ]
  },
  {
   "cell_type": "code",
   "execution_count": 4,
   "metadata": {},
   "outputs": [
    {
     "name": "stdout",
     "output_type": "stream",
     "text": [
      "enter a number:5\n"
     ]
    }
   ],
   "source": [
    "b=int(input(\"enter a number:\"))\n",
    "if b>10:\n",
    "    print(\"b is greater than 10\")"
   ]
  },
  {
   "cell_type": "code",
   "execution_count": 7,
   "metadata": {},
   "outputs": [
    {
     "name": "stdout",
     "output_type": "stream",
     "text": [
      "enter a charecter:a\n",
      "the given charecter is vowel\n"
     ]
    }
   ],
   "source": [
    "#vowel recognization\n",
    "v=input(\"enter a charecter:\")\n",
    "\n",
    "if((v=='a')or(v=='e')or (v=='i')or (v=='o')or (v=='U')):\n",
    "    print (\"the given charecter is vowel\")"
   ]
  },
  {
   "cell_type": "code",
   "execution_count": 2,
   "metadata": {},
   "outputs": [
    {
     "name": "stdout",
     "output_type": "stream",
     "text": [
      "enter the number:3\n",
      "the given no is less than 10\n"
     ]
    }
   ],
   "source": [
    "#if else condition\n",
    "a=int(input(\"enter the number:\"))\n",
    "\n",
    "if (a>10):\n",
    "    print(\"the given no is greater than 10\")\n",
    "else:\n",
    "    print(\"the given no is less than 10\")"
   ]
  },
  {
   "cell_type": "code",
   "execution_count": 3,
   "metadata": {},
   "outputs": [
    {
     "name": "stdout",
     "output_type": "stream",
     "text": [
      "enter the charecter :r\n",
      "the input charecter is lower case\n"
     ]
    }
   ],
   "source": [
    "#lower case or upper case  checking\n",
    "a=str(input(\"enter the charecter :\"))\n",
    "if(a.islower()):\n",
    "    print(\"the input charecter is lower case\")\n",
    "else:\n",
    "    print(\"the input  charecter is not in lower case\")"
   ]
  },
  {
   "cell_type": "code",
   "execution_count": 4,
   "metadata": {},
   "outputs": [
    {
     "name": "stdout",
     "output_type": "stream",
     "text": [
      "Enter a number:5\n",
      " enter another no.:4\n",
      "a is greater than b\n"
     ]
    }
   ],
   "source": [
    "#nested if else\n",
    "a=int(input(\"Enter a number:\"))\n",
    "b=int(input(\" enter another no.:\"))\n",
    "if(a==b):\n",
    "    print(\"a and b are equal\")\n",
    "else:\n",
    "    if(a>b):\n",
    "        print( \"a is greater than b\")\n",
    "    else :\n",
    "        print(\"a is less than b\")"
   ]
  },
  {
   "cell_type": "markdown",
   "metadata": {},
   "source": [
    "# #while controlflow\n"
   ]
  },
  {
   "cell_type": "code",
   "execution_count": 5,
   "metadata": {},
   "outputs": [
    {
     "name": "stdout",
     "output_type": "stream",
     "text": [
      "Enter a number:6\n",
      "number from 0 to: 6\n",
      "0\n",
      "1\n",
      "2\n",
      "3\n",
      "4\n",
      "5\n"
     ]
    }
   ],
   "source": [
    "a=int(input(\"Enter a number:\"))\n",
    "i=0\n",
    "print(\"number from 0 to:\",a)\n",
    "while(i<a):\n",
    "    print(i)\n",
    "    i=i+1"
   ]
  },
  {
   "cell_type": "code",
   "execution_count": 6,
   "metadata": {},
   "outputs": [
    {
     "name": "stdout",
     "output_type": "stream",
     "text": [
      "Enter a number:55555\n",
      "number of digit: 5\n"
     ]
    }
   ],
   "source": [
    "#program count the number of digit\n",
    "a=int(input(\"Enter a number:\"))\n",
    "x=0\n",
    "while(a>0):\n",
    "    a=int(a/10)\n",
    "    x=x+1\n",
    "print(\"number of digit:\",x)"
   ]
  },
  {
   "cell_type": "code",
   "execution_count": 8,
   "metadata": {},
   "outputs": [
    {
     "name": "stdout",
     "output_type": "stream",
     "text": [
      "Enter a number:6\n",
      "0\n",
      "1\n",
      "2\n",
      "3\n",
      "4\n",
      "5\n"
     ]
    }
   ],
   "source": [
    "#for loop\n",
    "a=int(input(\"Enter a number:\"))\n",
    "for i in range(a):\n",
    "    print(i)"
   ]
  },
  {
   "cell_type": "code",
   "execution_count": 13,
   "metadata": {},
   "outputs": [
    {
     "name": "stdout",
     "output_type": "stream",
     "text": [
      "1\n",
      "2\n",
      "3\n",
      "4\n",
      "5\n",
      "6\n",
      "7\n",
      "8\n",
      "9\n",
      "10\n"
     ]
    }
   ],
   "source": [
    "\n",
    "    for i in range(1,11):\n",
    "          print(i)"
   ]
  },
  {
   "cell_type": "code",
   "execution_count": 20,
   "metadata": {},
   "outputs": [
    {
     "name": "stdout",
     "output_type": "stream",
     "text": [
      "1\n",
      "2\n",
      "3\n",
      "4\n",
      "5\n",
      "6\n",
      "7\n",
      "8\n",
      "9\n",
      "10\n",
      "2\n",
      "4\n",
      "6\n",
      "8\n",
      "10\n",
      "12\n",
      "14\n",
      "16\n",
      "18\n",
      "20\n",
      "3\n",
      "6\n",
      "9\n",
      "12\n",
      "15\n",
      "18\n",
      "21\n",
      "24\n",
      "27\n",
      "30\n",
      "4\n",
      "8\n",
      "12\n",
      "16\n",
      "20\n",
      "24\n",
      "28\n",
      "32\n",
      "36\n",
      "40\n",
      "5\n",
      "10\n",
      "15\n",
      "20\n",
      "25\n",
      "30\n",
      "35\n",
      "40\n",
      "45\n",
      "50\n",
      "6\n",
      "12\n",
      "18\n",
      "24\n",
      "30\n",
      "36\n",
      "42\n",
      "48\n",
      "54\n",
      "60\n",
      "7\n",
      "14\n",
      "21\n",
      "28\n",
      "35\n",
      "42\n",
      "49\n",
      "56\n",
      "63\n",
      "70\n",
      "8\n",
      "16\n",
      "24\n",
      "32\n",
      "40\n",
      "48\n",
      "56\n",
      "64\n",
      "72\n",
      "80\n",
      "9\n",
      "18\n",
      "27\n",
      "36\n",
      "45\n",
      "54\n",
      "63\n",
      "72\n",
      "81\n",
      "90\n",
      "10\n",
      "20\n",
      "30\n",
      "40\n",
      "50\n",
      "60\n",
      "70\n",
      "80\n",
      "90\n",
      "100\n"
     ]
    }
   ],
   "source": [
    "  for i in range(1,11):\n",
    "        for j in range(1,11):\n",
    "          print(i*j)"
   ]
  },
  {
   "cell_type": "code",
   "execution_count": 27,
   "metadata": {},
   "outputs": [
    {
     "name": "stdout",
     "output_type": "stream",
     "text": [
      "Enter a number:33\n",
      "1\n",
      "4\n",
      "7\n",
      "10\n",
      "13\n",
      "16\n",
      "19\n",
      "22\n",
      "25\n",
      "28\n",
      "31\n"
     ]
    }
   ],
   "source": [
    " a=int(input(\"Enter a number:\"))\n",
    "for i in range(1,a,3):\n",
    "    \n",
    "    print(i)"
   ]
  },
  {
   "cell_type": "code",
   "execution_count": 30,
   "metadata": {},
   "outputs": [
    {
     "name": "stdout",
     "output_type": "stream",
     "text": [
      "Enter a number:7\n",
      "entered into while loop with value of i= 0\n",
      "entered into while loop with value of i= 1\n",
      "entered into while loop with value of i= 2\n",
      "entered into while loop with value of i= 3\n"
     ]
    }
   ],
   "source": [
    "#break statement\n",
    "a=int(input(\"Enter a number:\"))\n",
    "i=0\n",
    "while(i<a):\n",
    "    print(\"entered into while loop with value of i=\",i)\n",
    "    if(i==3):\n",
    "        break\n",
    "    i=i+1\n",
    "else:\n",
    "    print(\"break is not executed\")"
   ]
  },
  {
   "cell_type": "code",
   "execution_count": 32,
   "metadata": {},
   "outputs": [
    {
     "name": "stdout",
     "output_type": "stream",
     "text": [
      "Enter a number:9\n",
      "entered into while loop with value of i= 0\n",
      "entered into while loop with value of i= 1\n",
      "entered into while loop with value of i= 2\n",
      "entered into while loop with value of i= 4\n",
      "entered into while loop with value of i= 5\n",
      "entered into while loop with value of i= 6\n",
      "entered into while loop with value of i= 7\n",
      "entered into while loop with value of i= 8\n"
     ]
    }
   ],
   "source": [
    "#continue\n",
    "a=int(input(\"Enter a number:\"))\n",
    "i=0\n",
    "while(i<a):\n",
    "    if (i==3):\n",
    "        i=i+1\n",
    "        continue\n",
    "    else:\n",
    "        print(\"entered into while loop with value of i=\",i)\n",
    "        i=i+1"
   ]
  },
  {
   "cell_type": "code",
   "execution_count": 33,
   "metadata": {},
   "outputs": [
    {
     "name": "stdout",
     "output_type": "stream",
     "text": [
      "Enter a number:9\n",
      "entered into while loop with value of i= 0\n",
      "entered into while loop with value of i= 1\n",
      "entered into while loop with value of i= 2\n",
      "entered into while loop with value of i= 4\n",
      "entered into while loop with value of i= 5\n",
      "entered into while loop with value of i= 6\n",
      "entered into while loop with value of i= 7\n",
      "entered into while loop with value of i= 8\n"
     ]
    }
   ],
   "source": [
    "#pass\n",
    "a=int(input(\"Enter a number:\"))\n",
    "i=0\n",
    "while(i<a):\n",
    "    if (i==3):\n",
    "        i=i+1\n",
    "        pass\n",
    "    else:\n",
    "        print(\"entered into while loop with value of i=\",i)\n",
    "        i=i+1"
   ]
  },
  {
   "cell_type": "code",
   "execution_count": 35,
   "metadata": {},
   "outputs": [
    {
     "name": "stdout",
     "output_type": "stream",
     "text": [
      "anurag\n",
      "anurag\n",
      "anurag\n",
      "anurag\n",
      "anurag\n"
     ]
    }
   ],
   "source": [
    "#entry and exit control loop\n",
    "a=0\n",
    "while True:\n",
    "    print(\"anurag\")\n",
    "    a=a+1\n",
    "    if (a>4):\n",
    "        break"
   ]
  },
  {
   "cell_type": "code",
   "execution_count": 37,
   "metadata": {},
   "outputs": [
    {
     "name": "stdout",
     "output_type": "stream",
     "text": [
      "\r\n",
      "\r\n",
      "\r\n",
      "\r\n",
      "\r\n"
     ]
    }
   ],
   "source": [
    "#patern print using  loop\n",
    "i=1\n",
    "while (i<6):\n",
    "    j=j+1\n",
    "    while(j<=i):\n",
    "        print(\" * \",end=\"\")\n",
    "        j=j+1\n",
    "    print(\"\\r\")\n",
    "    i=i+1\n",
    "    "
   ]
  },
  {
   "cell_type": "code",
   "execution_count": null,
   "metadata": {},
   "outputs": [],
   "source": []
  }
 ],
 "metadata": {
  "kernelspec": {
   "display_name": "Python 3",
   "language": "python",
   "name": "python3"
  },
  "language_info": {
   "codemirror_mode": {
    "name": "ipython",
    "version": 3
   },
   "file_extension": ".py",
   "mimetype": "text/x-python",
   "name": "python",
   "nbconvert_exporter": "python",
   "pygments_lexer": "ipython3",
   "version": "3.7.3"
  }
 },
 "nbformat": 4,
 "nbformat_minor": 4
}
