{
 "cells": [
  {
   "cell_type": "markdown",
   "metadata": {},
   "source": [
    "# threading module\n"
   ]
  },
  {
   "cell_type": "code",
   "execution_count": 1,
   "metadata": {},
   "outputs": [
    {
     "name": "stdout",
     "output_type": "stream",
     "text": [
      "no. of alive thread: 5\n"
     ]
    }
   ],
   "source": [
    "import threading\n",
    "print(\"no. of alive thread:\",threading.active_count())"
   ]
  },
  {
   "cell_type": "code",
   "execution_count": 2,
   "metadata": {},
   "outputs": [
    {
     "name": "stdout",
     "output_type": "stream",
     "text": [
      "current thread object: <_MainThread(MainThread, started 18808)>\n"
     ]
    }
   ],
   "source": [
    "print(\"current thread object:\",threading.current_thread())"
   ]
  },
  {
   "cell_type": "code",
   "execution_count": 3,
   "metadata": {},
   "outputs": [
    {
     "name": "stdout",
     "output_type": "stream",
     "text": [
      "thread identifier: 18808\n"
     ]
    }
   ],
   "source": [
    "print(\"thread identifier:\",threading.get_ident())"
   ]
  },
  {
   "cell_type": "code",
   "execution_count": 4,
   "metadata": {},
   "outputs": [
    {
     "name": "stdout",
     "output_type": "stream",
     "text": [
      "list of alive thread: [<_MainThread(MainThread, started 18808)>, <Thread(Thread-4, started daemon 2936)>, <Heartbeat(Thread-5, started daemon 13076)>, <HistorySavingThread(IPythonHistorySavingThread, started 18132)>, <ParentPollerWindows(Thread-3, started daemon 4864)>]\n"
     ]
    }
   ],
   "source": [
    "print(\"list of alive thread:\",threading.enumerate())"
   ]
  },
  {
   "cell_type": "code",
   "execution_count": 8,
   "metadata": {},
   "outputs": [
    {
     "name": "stdout",
     "output_type": "stream",
     "text": [
      "main thread object : <_MainThread(MainThread, started 18808)>\n"
     ]
    }
   ],
   "source": [
    "print(\"main thread object :\",threading.main_thread())"
   ]
  },
  {
   "cell_type": "code",
   "execution_count": 7,
   "metadata": {},
   "outputs": [
    {
     "name": "stdout",
     "output_type": "stream",
     "text": [
      "thread maximum time: 4294967.0\n"
     ]
    }
   ],
   "source": [
    "print(\"thread maximum time:\",threading.TIMEOUT_MAX)"
   ]
  },
  {
   "cell_type": "markdown",
   "metadata": {},
   "source": [
    "# thread synchronization"
   ]
  },
  {
   "cell_type": "code",
   "execution_count": 18,
   "metadata": {},
   "outputs": [
    {
     "name": "stdout",
     "output_type": "stream",
     "text": [
      "thrade name: thread 4\n",
      "thrade name:"
     ]
    },
    {
     "data": {
      "text/plain": [
       "22960"
      ]
     },
     "execution_count": 18,
     "metadata": {},
     "output_type": "execute_result"
    },
    {
     "name": "stdout",
     "output_type": "stream",
     "text": [
      "thrade name: thrade name:thrade name:  thread 1thrade name: thread 3thread 5\n",
      "thread 6\n",
      "thrade name: thread 2\n",
      "\n",
      " thread 8\n",
      "thrade name:\n",
      " thread 7\n"
     ]
    }
   ],
   "source": [
    "import _thread\n",
    "def abc(arg1):\n",
    "    print(\"thrade name:\",arg1)\n",
    "_thread.start_new_thread(abc,(\"thread 1\",))\n",
    "_thread.start_new_thread(abc,(\"thread 2\",))\n",
    "_thread.start_new_thread(abc,(\"thread 3\",))\n",
    "_thread.start_new_thread(abc,(\"thread 4\",))\n",
    "_thread.start_new_thread(abc,(\"thread 5\",))\n",
    "_thread.start_new_thread(abc,(\"thread 6\",))\n",
    "_thread.start_new_thread(abc,(\"thread 7\",))\n",
    "_thread.start_new_thread(abc,(\"thread 8\",))"
   ]
  },
  {
   "cell_type": "code",
   "execution_count": null,
   "metadata": {},
   "outputs": [],
   "source": []
  },
  {
   "cell_type": "code",
   "execution_count": null,
   "metadata": {},
   "outputs": [],
   "source": []
  }
 ],
 "metadata": {
  "kernelspec": {
   "display_name": "Python 3",
   "language": "python",
   "name": "python3"
  },
  "language_info": {
   "codemirror_mode": {
    "name": "ipython",
    "version": 3
   },
   "file_extension": ".py",
   "mimetype": "text/x-python",
   "name": "python",
   "nbconvert_exporter": "python",
   "pygments_lexer": "ipython3",
   "version": "3.7.3"
  }
 },
 "nbformat": 4,
 "nbformat_minor": 4
}
