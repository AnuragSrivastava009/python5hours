{
 "cells": [
  {
   "cell_type": "markdown",
   "metadata": {},
   "source": [
    "# calling  a function\n",
    "\n"
   ]
  },
  {
   "cell_type": "code",
   "execution_count": 5,
   "metadata": {},
   "outputs": [
    {
     "name": "stdout",
     "output_type": "stream",
     "text": [
      "hello \n",
      " i am function line 2\n",
      "hello \n",
      " i am function line 2\n",
      "hello \n",
      " i am function line 2\n"
     ]
    }
   ],
   "source": [
    "def f1():\n",
    "    print(\"hello \")\n",
    "    print(\" i am function line 2\")\n",
    "#calling function\n",
    "f1()\n",
    "f1()\n",
    "f1()"
   ]
  },
  {
   "cell_type": "code",
   "execution_count": 6,
   "metadata": {},
   "outputs": [
    {
     "name": "stdout",
     "output_type": "stream",
     "text": [
      "hello\n",
      " i am function line 2\n",
      "hello\n",
      " i am function line 2\n",
      "hello\n",
      " i am function line 2\n"
     ]
    }
   ],
   "source": [
    "#code wothout function\n",
    "print(\"hello\")\n",
    "print(\" i am function line 2\")\n",
    "\n",
    "print(\"hello\")\n",
    "print(\" i am function line 2\")\n",
    "\n",
    "print(\"hello\")\n",
    "print(\" i am function line 2\")\n"
   ]
  },
  {
   "cell_type": "code",
   "execution_count": 7,
   "metadata": {},
   "outputs": [
    {
     "name": "stdout",
     "output_type": "stream",
     "text": [
      "hello\n",
      " i am function in python\n",
      "hello\n",
      " i am function in python\n",
      "hello\n",
      " i am function in python\n",
      "hello\n",
      " i am function in python\n",
      "hello\n",
      " i am function in python\n"
     ]
    }
   ],
   "source": [
    "def f1():\n",
    "    print(\"hello\")\n",
    "    print(\" i am function in python\")\n",
    "for i in range(5):\n",
    "    f1()"
   ]
  },
  {
   "cell_type": "code",
   "execution_count": 8,
   "metadata": {},
   "outputs": [
    {
     "name": "stdout",
     "output_type": "stream",
     "text": [
      "enter the value of n:3\n",
      "this is odd  number\n"
     ]
    }
   ],
   "source": [
    "def f1():\n",
    "    print(\"this is even no\")\n",
    "def f2():\n",
    "    print(\"this is odd  number\")\n",
    "n= int(input(\"enter the value of n:\"))\n",
    "if((n%2)==0):\n",
    "    f1()\n",
    "else:\n",
    "    f2()\n",
    "    "
   ]
  },
  {
   "cell_type": "markdown",
   "metadata": {},
   "source": [
    "# passing argument"
   ]
  },
  {
   "cell_type": "markdown",
   "metadata": {},
   "source": [
    "<html>\n",
    "<body>\n",
    "<p>\n",
    "there are four type of  argument passing in function\n",
    "</p><ol>\n",
    "    <li>require argument</li>\n",
    "       <li>  keyword argument</li>\n",
    "         <li>  default argument</li>\n",
    "         <li>  variable length argument</li>\n",
    "    </ol>\n",
    "</body>\n",
    "</html>"
   ]
  },
  {
   "cell_type": "code",
   "execution_count": 9,
   "metadata": {},
   "outputs": [],
   "source": [
    "#require argument"
   ]
  },
  {
   "cell_type": "code",
   "execution_count": 14,
   "metadata": {},
   "outputs": [
    {
     "name": "stdout",
     "output_type": "stream",
     "text": [
      "sum(10,30)= 40\n",
      "sum(,20)= 30\n",
      "sum(10,)= 20\n"
     ]
    }
   ],
   "source": [
    "def sum(a,b=10):\n",
    "    return (a+b)\n",
    "print(\"sum(10,30)=\", sum(10,30))\n",
    "print(\"sum(,20)=\", sum(20))\n",
    "print(\"sum(10,)=\", sum(10))"
   ]
  },
  {
   "cell_type": "code",
   "execution_count": 18,
   "metadata": {},
   "outputs": [
    {
     "name": "stdout",
     "output_type": "stream",
     "text": [
      "enter the selling price:30\n",
      "enter the cost price45\n",
      "loss -15.0\n"
     ]
    }
   ],
   "source": [
    "def pr(a,b):\n",
    "    if (a>b):\n",
    "        print(\"profit\",x-y)\n",
    "    elif(b>a):\n",
    "        print(\"loss\",x-y)\n",
    "    else:\n",
    "        print(\"no profit no loss\")\n",
    "x=float(input(\"enter the selling price:\"))\n",
    "y= float(input(\"enter the cost price\"))\n",
    "pr(x,y)"
   ]
  },
  {
   "cell_type": "code",
   "execution_count": 19,
   "metadata": {},
   "outputs": [
    {
     "name": "stdout",
     "output_type": "stream",
     "text": [
      "enter the value:74\n",
      "enter the value:45\n",
      "x value 74\n",
      "y value 45\n",
      "sum= 119\n",
      "x value 45\n",
      "y value 74\n",
      "sum= 119\n"
     ]
    }
   ],
   "source": [
    "#keyword argument\n",
    "def add(x,y):\n",
    "    s=x+y\n",
    "    print(\"x value\",x)\n",
    "    print(\"y value\",y)\n",
    "    print(\"sum=\",s)\n",
    "n=int(input(\"enter the value:\"))\n",
    "m=int(input(\"enter the value:\"))\n",
    "add(x=n,y=m)\n",
    "add(x=m,y=n)\n",
    "    \n",
    "    "
   ]
  },
  {
   "cell_type": "code",
   "execution_count": 23,
   "metadata": {},
   "outputs": [
    {
     "name": "stdout",
     "output_type": "stream",
     "text": [
      "enter the value:100\n",
      "enter the value:200\n",
      "x value 0\n",
      "y value 0\n",
      "sum= 0\n",
      "x value 100\n",
      "y value 0\n",
      "sum= 100\n",
      "x value 0\n",
      "y value 200\n",
      "sum= 200\n",
      "x value 100\n",
      "y value 200\n",
      "sum= 300\n"
     ]
    }
   ],
   "source": [
    "#default argument\n",
    "def add(x=0,y=0):\n",
    "    s=x+y\n",
    "    print(\"x value\",x)\n",
    "    print(\"y value\",y)\n",
    "    print(\"sum=\",s)\n",
    "n1=int(input(\"enter the value:\"))\n",
    "n2=int(input(\"enter the value:\"))\n",
    "add()\n",
    "add(x=n1,)\n",
    "\n",
    "add(y=n2,)\n",
    "add(x=n1,y=n2)\n",
    "    "
   ]
  },
  {
   "cell_type": "code",
   "execution_count": null,
   "metadata": {},
   "outputs": [],
   "source": [
    "#variable length argument\n"
   ]
  }
 ],
 "metadata": {
  "kernelspec": {
   "display_name": "Python 3",
   "language": "python",
   "name": "python3"
  },
  "language_info": {
   "codemirror_mode": {
    "name": "ipython",
    "version": 3
   },
   "file_extension": ".py",
   "mimetype": "text/x-python",
   "name": "python",
   "nbconvert_exporter": "python",
   "pygments_lexer": "ipython3",
   "version": "3.7.3"
  }
 },
 "nbformat": 4,
 "nbformat_minor": 4
}
